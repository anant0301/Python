{
 "cells": [
  {
   "cell_type": "code",
   "execution_count": 6,
   "metadata": {},
   "outputs": [],
   "source": [
    "import cv2\n",
    "from datetime import datetime\n",
    "import pandas\n",
    "\n",
    "\n",
    "imageData = pandas.DataFrame(columns = [\"Start\", \"End\"])\n",
    "video = cv2.VideoCapture(0)\n",
    "# inputFile = \"./ex_1.mp4\"\n",
    "# video = cv2.VideoCapture(inputFile)\n",
    "frame_list = []\n",
    "frame_list_len = 5\n",
    "for i in range(frame_list_len):\n",
    "    check, frame = video.read()\n",
    "    gray = cv2.cvtColor(frame, cv2.COLOR_BGR2GRAY)\n",
    "    frame_list.append(gray)\n",
    "    \n",
    "while (1):\n",
    "    # read frame from the video\n",
    "    check, frame = video.read()\n",
    "    if check:\n",
    "        gray = cv2.cvtColor(frame, cv2.COLOR_BGR2GRAY)\n",
    "        # get the difference in some previous instance and this one\n",
    "        diff_frame = cv2.absdiff(frame_list[2], gray)\n",
    "        thresh_frame = cv2.threshold(diff_frame, 30, 255, cv2.THRESH_BINARY)[1] \n",
    "        thresh_frame = cv2.dilate(thresh_frame, None, iterations = 2) \n",
    "\n",
    "        # Finding contour of moving object \n",
    "        cnts,_ = cv2.findContours(thresh_frame.copy(), cv2.RETR_EXTERNAL, cv2.CHAIN_APPROX_SIMPLE) \n",
    "\n",
    "        for contour in cnts: \n",
    "            if cv2.contourArea(contour) < 10000: \n",
    "                continue\n",
    "            (x, y, w, h) = cv2.boundingRect(contour) \n",
    "            # making green rectangle arround the moving object \n",
    "            cv2.rectangle(frame, (x, y), (x + w, y + h), (0, 255, 0), 3)\n",
    "            cv2.circle(frame, (x + h//2, y + h//2), 3, (255, 255, 255), 2)\n",
    "\n",
    "#         cv2.imshow(\"Grayscale\", gray)\n",
    "#         cv2.imshow(\"Difference\", diff_frame)\n",
    "#         cv2.imshow(\"Countour of Difference\", thresh_frame)\n",
    "        cv2.imshow(\"Difference\", diff_frame)\n",
    "        cv2.imshow(\"Normal\", frame)\n",
    "        key = cv2.waitKey(1)\n",
    "\n",
    "        del frame_list[0]\n",
    "        frame_list.append(gray)\n",
    "\n",
    "        # exit the loop\n",
    "        if key == ord('q'): \n",
    "            break\n",
    "    else:\n",
    "        break\n",
    "video.release() \n",
    "# Destroying all the windows \n",
    "cv2.destroyAllWindows() "
   ]
  }
 ],
 "metadata": {
  "kernelspec": {
   "display_name": "Python 3",
   "language": "python",
   "name": "python3"
  },
  "language_info": {
   "codemirror_mode": {
    "name": "ipython",
    "version": 3
   },
   "file_extension": ".py",
   "mimetype": "text/x-python",
   "name": "python",
   "nbconvert_exporter": "python",
   "pygments_lexer": "ipython3",
   "version": "3.7.6"
  }
 },
 "nbformat": 4,
 "nbformat_minor": 4
}
